{
  "nbformat": 4,
  "nbformat_minor": 0,
  "metadata": {
    "colab": {
      "name": "Proj_1_Deep_Learning_GEM_Final.ipynb",
      "provenance": [],
      "collapsed_sections": [],
      "toc_visible": true,
      "include_colab_link": true
    },
    "kernelspec": {
      "name": "python3",
      "display_name": "Python 3"
    }
  },
  "cells": [
    {
      "cell_type": "markdown",
      "metadata": {
        "id": "view-in-github",
        "colab_type": "text"
      },
      "source": [
        "<a href=\"https://colab.research.google.com/github/frios2020/Project-1-GEM-/blob/main/Proj_1_Deep_Learning_GEM_Final.ipynb\" target=\"_parent\"><img src=\"https://colab.research.google.com/assets/colab-badge.svg\" alt=\"Open In Colab\"/></a>"
      ]
    },
    {
      "cell_type": "markdown",
      "metadata": {
        "id": "hjGo0tet_q6A"
      },
      "source": [
        "# Project Gradient Episodic Memory (GEM) for Continual Learning"
      ]
    },
    {
      "cell_type": "markdown",
      "metadata": {
        "id": "xtaI_Dy6AEt4"
      },
      "source": [
        "NJIT Data Science Program\n",
        "Course\n",
        "CS677 Deep Learning - Fall 2020\n",
        "\n",
        "Instructor\n",
        "Pantelis Monogioudis, Ph.D Professor of Practice, NJIT & Adjunct NYU\n",
        "\n",
        "Teaching Assistant\n",
        "Nitesh Mistry\n",
        "\n",
        "Students:\n",
        "\n",
        "*   Fernando Rios\n",
        "*   Hassan Ouanir\n",
        "*   Maha Faruque"
      ]
    },
    {
      "cell_type": "markdown",
      "metadata": {
        "id": "dRE-q2OUI7QN"
      },
      "source": [
        "# Introduction:</br>\n",
        "Humans and animals have the ability to continually acquire, fine-tune,\n",
        "and transfer knowledge and skills throughout their lifespan. This ability, referred\n",
        "to as lifelong learning, is mediated by a rich set of neurocognitive mechanisms\n",
        "that together contribute to the development and specialization of our sensorimotor skills as well as to long-term memory consolidation and retrieval. Consequently, lifelong learning capabilities are crucial for computational systems\n",
        "and autonomous agents interacting in the real world and processing continuous\n",
        "streams of information. However, lifelong learning remains a long-standing challenge for machine learning and neural network models since the continual acquisition of incrementally available information from non-stationary data distributions\n",
        "generally leads to catastrophic forgetting or interference.\n",
        "\n",
        "This limitation represents a challenge for deep neural network models that typically learn representations from stationary batches of training data, thus without\n",
        "accounting for situations in which information becomes incrementally available\n",
        "over time.\n",
        "\n",
        "There are different neural network approaches for lifelong\n",
        "learning that mitigate, to different extents, catastrophic forgetting. \n",
        "\n",
        "* **Regularization**: Meaning there is a penalty on changing the weights of the Neural Network. The penalty increases proportionally with the (weight change) of the Neural Network. This helps in retaining the old knowledge.\n",
        "\n",
        "* **Dynamic Architecture**: During learning a new task, new resources are allocated to learn new information (meaning, new neurons are created without changing the old weights of the network). This helps in learning new tasks without interfering with the previously gained knowledge.\n",
        "\n",
        "* **Complimentary Learning System (CLS)**: A mixture of the two methods above. New resources are created (neurons/layers) and \"some\" old weights are changed\n",
        "\n",
        "\n",
        "In this notebook we try explain and develop the model Gradient Episodic Memory (GEM) proposed by Lopez Paz & Ranzato 2017, which comes under CLS.\n"
      ]
    },
    {
      "cell_type": "markdown",
      "metadata": {
        "id": "KKTIU6zYSrVQ"
      },
      "source": [
        "# Gradient Episodic Memory (GEM)"
      ]
    },
    {
      "cell_type": "markdown",
      "metadata": {
        "id": "NuYLdrshjUbW"
      },
      "source": [
        " This approach try alleviates\n",
        "forgetting, while allowing beneficial transfer of knowledge to previous tasks. Our experiment on variants of the MNIST datasets demonstrate the\n",
        "strong performance of GEM when compared to the state-of-the-art. The GEM model can be used for solving a few challenges, one of them being catastrophic forgetting. The main feature of GEM to minimize catastrophic forgetting is an episodic memory used to store a subset of the observed examples from a\n",
        "given task. While minimizing the loss on the current task t, GEM treats the losses on the episodic\n",
        "memories of tasks k < t as inequality constraints, avoiding their increase but allowing their decrease.  This method requires considerable more memory than other regularization approaches at training time (with an episodic memory Mk for each task k) but can work much better in the single pass setting."
      ]
    },
    {
      "cell_type": "markdown",
      "metadata": {
        "id": "UxDq5GisUVUB"
      },
      "source": [
        "## Framework"
      ]
    },
    {
      "cell_type": "markdown",
      "metadata": {
        "id": "LeoFP6h4Ugkz"
      },
      "source": [
        "We focus on continuum of data, where each triplet (xi\n",
        ", ti\n",
        ", yi) is formed by a feature vector\n",
        "xi ∈ Xti\n",
        ", a task descriptor ti ∈ T , and a target vector yi ∈ Yti\n",
        ". For simplicity, we assume that the\n",
        "continuum is locally iid, that is, every triplet (xi\n",
        ", ti\n",
        ", yi) satisfies (xi\n",
        ", yi)\n",
        "iid∼ Pti\n",
        "(X, Y ).</br></br>\n",
        "Our goal is to learn a predictor f : X × T → Y,\n",
        "which can be queried at any time to predict the target vector y associated to a test pair (x, t), where\n",
        "(x, y) ∼ Pt. Such test pair can belong to a task that we have observed in the past, the current task, or\n",
        "a task that we will experience (or not) in the future.</br>\n",
        "**Task descriptors.** In the simplest case, the task descriptors are integers ti = i ∈ Z enumerating the\n",
        "different tasks appearing in the continuum of data. </br>\n",
        "**Training Protocol and Evaluation Metrics.** \n",
        "We are interested in the “more human-like” setting where i) the number of tasks is\n",
        "large, ii) the number of training examples per task is small, iii) the learner observes the examples\n",
        "concerning each task only once, and iv) we report metrics that measure both transfer and forgetting.\n",
        "Therefore, at training time we provide the learner with only one example at the time (or a small\n",
        "mini-batch), in the form of a triplet (xi\n",
        ", ti\n",
        ", yi). The learner never experiences the same example\n",
        "twice, and tasks are streamed in sequence. We do not need to impose any order on the tasks, since a\n",
        "future task may coincide with a past task.\n",
        "we would like to measure:\n",
        "1. **Backward transfer (BWT)**, which is the influence that learning a task t has on the performance on a previous task k ≺ t. On the one hand, there exists positive backward transfer\n",
        "when learning about some task t increases the performance on some preceding task k. On\n",
        "the other hand, there exists negative backward transfer when learning about some task t\n",
        "decreases the performance on some preceding task k. Large negative backward transfer is\n",
        "also known as (catastrophic) forgetting.</br>\n",
        "2. **Forward transfer (FWT)**, which is the influence that learning a task t has on the performance\n",
        "on a future task k \u001f t. In particular, positive forward transfer is possible when the model is\n",
        "able to perform “zero-shot” learning, perhaps by exploiting the structure available in the\n",
        "task descriptors.</br>"
      ]
    },
    {
      "cell_type": "markdown",
      "metadata": {
        "id": "vypnDUm6UcGm"
      },
      "source": [
        "## Metrics"
      ]
    },
    {
      "cell_type": "markdown",
      "metadata": {
        "id": "yizZ5igIX1zL"
      },
      "source": [
        "### Average Accuracy : <br />\n",
        "is calculated on the test data, Backward transfer, and Forward transfer. <br />\n",
        "- Notation : <br />\n",
        "R ∈ R<sup>T × T</sup> where R<sub>i,j</sub> is the test classification accuracy on task j after observing the last sample of task j after observe the last sample from task ti.\n",
        "- Average Accuracy : $\\frac{1}{T}$$\\sum_{i=1}^{T} R_{T,i}$"
      ]
    },
    {
      "cell_type": "markdown",
      "metadata": {
        "id": "DQoBJt6oYAYV"
      },
      "source": [
        "### Backward transfer:\n",
        "focuses on the average accuracy of every task i after each of the next tasks are completed.\n",
        "BWT = $\\frac{1}{T - 1}$$\\sum_{i=1}^{T - 1} R_{T,i} - R_{i,i}$ <br />\n",
        "There won't be any backward transfer for first task <br />\n",
        "How to calculate :-\n",
        "1. Record the accuracy of each task i initially.\n",
        "2. Learn task i + 1 and then record accuracy of task i\n",
        "3. Since we want to know the transfer, subtract each by R<sub>i, i</sub> <br />"
      ]
    },
    {
      "cell_type": "markdown",
      "metadata": {
        "id": "4xwHINZlYCR7"
      },
      "source": [
        "### Forward transfer:\n",
        "focuses on the average accuracy of each task i before each of the previous tasks are completed. <br />\n",
        "\n",
        "FWT = $\\frac{1}{T - 1}$$\\sum_{i=2}^{T} R_{i-1,i} - b_{i}$ <br />\n",
        "There won't be any forward transfer for the last task <br />\n",
        "\n",
        "How to calculate :-\n",
        "1. Record accuracy for each task i = b<sub>i</sub> upon initialization (Random initialization)\n",
        "2. Learn task 1, record accuracy for task i, repeat this until task i - 1. For all tasks\n",
        "3. Subtract their respective b<sub>i</sub> from the values and divide  by T - 1 to get average accuracy"
      ]
    },
    {
      "cell_type": "markdown",
      "metadata": {
        "id": "FwwSpusFJWh3"
      },
      "source": [
        "## Dataset and Architecture<br />\n",
        "We use MNIST handwritten digit dataset. It consists of 60,000 images for training and 10,000 images for testing. Each image is 28*28 pixels. We rotate these digits by a certain angle and then try to predict the number. In this project we use 10 tasks (10 different rotation angles from 0 to 90 degrees). Which means each of the 10 tasks has 60,000 images for training and 10,000 images for testing.\n",
        "The model observes the tasks in sequence, and each example once. The evaluation for each task is performed n the test partition of each dataset.</br>\n",
        "On the MNIST tasks, we use fully-connected neural networks with two (2) hidden layers of 100 ReLU units. We train all the networks using plain SGD on mini-batches of 10 samples. \n"
      ]
    },
    {
      "cell_type": "markdown",
      "metadata": {
        "id": "Z9xnJ9y-Yqj7"
      },
      "source": [
        "# Code"
      ]
    },
    {
      "cell_type": "markdown",
      "metadata": {
        "id": "MhItcml919eo"
      },
      "source": [
        ""
      ]
    },
    {
      "cell_type": "markdown",
      "metadata": {
        "id": "MfNZS38IYgvM"
      },
      "source": [
        "## Importing and Installing needed libraries"
      ]
    },
    {
      "cell_type": "code",
      "metadata": {
        "id": "FD_y7FlqaGAo"
      },
      "source": [
        "import numpy as np # linear algebra\n",
        "import matplotlib.pyplot as plt\n",
        "import pandas as pd # data processing, CSV file I/O (e.g. pd.read_csv)\n",
        "import subprocess # running new applications/programs by creating new processes\n",
        "import pickle # serialising the object & saving it as a pickle object\n",
        "import torch # deep learning framework\n",
        "import os \n",
        "from torchvision import transforms \n",
        "from PIL import Image \n",
        "import argparse # parser for command line \n",
        "import os.path \n",
        "import random\n",
        "import math\n",
        "import importlib\n",
        "import datetime\n",
        "import uuid\n",
        "import time\n",
        "import torch.nn as nn\n",
        "from torch.nn.functional import relu, avg_pool2d"
      ],
      "execution_count": null,
      "outputs": []
    },
    {
      "cell_type": "code",
      "metadata": {
        "id": "evTAolKsiE8S",
        "outputId": "a21c8b7e-2dc0-46ae-f02d-0cc03af1b596",
        "colab": {
          "base_uri": "https://localhost:8080/",
          "height": 51
        }
      },
      "source": [
        "# Quadratic programming library\n",
        "!pip install quadprog "
      ],
      "execution_count": null,
      "outputs": [
        {
          "output_type": "stream",
          "text": [
            "Requirement already satisfied: quadprog in /usr/local/lib/python3.6/dist-packages (0.1.7)\n",
            "Requirement already satisfied: Cython in /usr/local/lib/python3.6/dist-packages (from quadprog) (0.29.21)\n"
          ],
          "name": "stdout"
        }
      ]
    },
    {
      "cell_type": "markdown",
      "metadata": {
        "id": "1Xc4Y4qLYnkR"
      },
      "source": [
        "## Downloading Database mnist.npz"
      ]
    },
    {
      "cell_type": "code",
      "metadata": {
        "id": "c0rHeBt4aP2P"
      },
      "source": [
        "mnist_path = \"mnist.npz\"\n",
        "# if mnist.npz is not available, it will download the the file from the URL\n",
        "if not os.path.exists(mnist_path):\n",
        "    subprocess.call(\"wget https://s3.amazonaws.com/img-datasets/mnist.npz\", shell=True)"
      ],
      "execution_count": null,
      "outputs": []
    },
    {
      "cell_type": "code",
      "metadata": {
        "id": "8b60XiUdboF0",
        "outputId": "fee8761e-db9f-4ba0-a8ba-2f9034f98af6",
        "colab": {
          "base_uri": "https://localhost:8080/",
          "height": 374
        }
      },
      "source": [
        "# Veryfing database mnist.npz downloaded in previous line\n",
        "# iterates over directories & creates list of filenames\n",
        "for dirname, _, filenames in os.walk('/content/'):\n",
        "    for filename in filenames:\n",
        "        print(os.path.join(dirname, filename))\n",
        "        "
      ],
      "execution_count": null,
      "outputs": [
        {
          "output_type": "stream",
          "text": [
            "/content/mnist.npz\n",
            "/content/.config/.last_opt_in_prompt.yaml\n",
            "/content/.config/active_config\n",
            "/content/.config/.last_survey_prompt.yaml\n",
            "/content/.config/.last_update_check.json\n",
            "/content/.config/gce\n",
            "/content/.config/config_sentinel\n",
            "/content/.config/.metricsUUID\n",
            "/content/.config/configurations/config_default\n",
            "/content/.config/logs/2020.10.14/16.31.46.119103.log\n",
            "/content/.config/logs/2020.10.14/16.31.25.706256.log\n",
            "/content/.config/logs/2020.10.14/16.30.50.869240.log\n",
            "/content/.config/logs/2020.10.14/16.31.46.824031.log\n",
            "/content/.config/logs/2020.10.14/16.31.10.843101.log\n",
            "/content/.config/logs/2020.10.14/16.31.31.333159.log\n",
            "/content/sample_data/anscombe.json\n",
            "/content/sample_data/README.md\n",
            "/content/sample_data/california_housing_test.csv\n",
            "/content/sample_data/mnist_test.csv\n",
            "/content/sample_data/california_housing_train.csv\n",
            "/content/sample_data/mnist_train_small.csv\n"
          ],
          "name": "stdout"
        }
      ]
    },
    {
      "cell_type": "markdown",
      "metadata": {
        "id": "4n6KkrsTLglf"
      },
      "source": [
        "## Reading the data & separate in train and test dataset\n",
        "---\n",
        "\n"
      ]
    },
    {
      "cell_type": "code",
      "metadata": {
        "id": "1MIXfrUock7b",
        "outputId": "358d4f3a-0f16-4739-832a-ef02aafc50f8",
        "colab": {
          "base_uri": "https://localhost:8080/",
          "height": 85
        }
      },
      "source": [
        "f = np.load('/content/mnist.npz')\n",
        "# extracting the training data\n",
        "x_tr = torch.from_numpy(f['x_train'])\n",
        "y_tr = torch.from_numpy(f['y_train']).long()\n",
        "# extracting the test data\n",
        "x_te = torch.from_numpy(f['x_test'])\n",
        "y_te = torch.from_numpy(f['y_test']).long()\n",
        "f.close()\n",
        "torch.save((x_tr, y_tr), 'mnist_train.pt')\n",
        "torch.save((x_te, y_te), 'mnist_test.pt')\n",
        "x_tr.size()[0]\n",
        "# printing the data details\n",
        "print('Xtrain size: [%d , %d , %d ]' % (x_tr.size()[0], x_tr.size()[1],x_tr.size()[2]))\n",
        "print('Xtest size: [%d , %d , %d ]' % (x_te.size()[0], x_te.size()[1],x_te.size()[2]))\n",
        "print('Ytrain size: [%d ]' % (y_tr.size()[0]))\n",
        "print('Ytest size: [%d ]' % (y_te.size()[0]))"
      ],
      "execution_count": null,
      "outputs": [
        {
          "output_type": "stream",
          "text": [
            "Xtrain size: [60000 , 28 , 28 ]\n",
            "Xtest size: [10000 , 28 , 28 ]\n",
            "Ytrain size: [60000 ]\n",
            "Ytest size: [10000 ]\n"
          ],
          "name": "stdout"
        }
      ]
    },
    {
      "cell_type": "code",
      "metadata": {
        "id": "sZyfh-VYczu8"
      },
      "source": [
        "# function to rotate dataset images\n",
        "def rotate_dataset(d, rotation):\n",
        "    result = torch.FloatTensor(d.size(0), 784)\n",
        "    tensor = transforms.ToTensor()\n",
        "\n",
        "    for i in range(d.size(0)):\n",
        "        img = Image.fromarray(d[i].numpy(), mode='L')\n",
        "        result[i] = tensor(img.rotate(rotation)).view(784)\n",
        "    return result"
      ],
      "execution_count": null,
      "outputs": []
    },
    {
      "cell_type": "code",
      "metadata": {
        "id": "kIivJtRec1kt"
      },
      "source": [
        "# Create training and testing datasets rotated\n",
        "a_i = '../content/output'\n",
        "a_ntasks = 10\n",
        "a_min_rot = 0\n",
        "a_max_rot = 90\n",
        "a_seed = 0\n",
        "\n",
        "# setting the seed of torch\n",
        "torch.manual_seed(a_seed)\n",
        "\n",
        "tasks_tr = []\n",
        "tasks_te = []\n",
        "\n",
        "for t in range(a_ntasks):\n",
        "    min_rot = 1.0 * t / a_ntasks * (a_max_rot - a_min_rot) + \\\n",
        "        a_min_rot\n",
        "    max_rot = 1.0 * (t + 1) / a_ntasks * \\\n",
        "        (a_max_rot - a_min_rot) + a_min_rot\n",
        "    rot = random.random() * (max_rot - min_rot) + min_rot # random rotation\n",
        "\n",
        "    tasks_tr.append([rot, rotate_dataset(x_tr, rot), y_tr])\n",
        "    tasks_te.append([rot, rotate_dataset(x_te, rot), y_te])"
      ],
      "execution_count": null,
      "outputs": []
    },
    {
      "cell_type": "markdown",
      "metadata": {
        "id": "mqBWudPxaUoA"
      },
      "source": [
        "## Plotting a sample from the training dataset. The origial digit with its 10 rotations:"
      ]
    },
    {
      "cell_type": "code",
      "metadata": {
        "id": "4pAHVioZdlNY",
        "outputId": "0789f121-ac6b-4556-ae1c-b6159565511c",
        "colab": {
          "base_uri": "https://localhost:8080/",
          "height": 641
        }
      },
      "source": [
        "w=28\n",
        "h=28\n",
        "fig=plt.figure(figsize=(8, 8))\n",
        "columns = 4\n",
        "rows = 3\n",
        "fig.add_subplot(rows, columns, 1)\n",
        "plt.imshow(x_tr[0])\n",
        "for i in range(10):\n",
        "    x=tasks_tr[i][1][0]\n",
        "    img = x.reshape((h, w))\n",
        "    fig.add_subplot(rows, columns, i+2)\n",
        "    plt.imshow(img, cmap=plt.cm.gray)\n",
        "\n",
        "print('*** Rotation angles:***')\n",
        "for i in range(10):\n",
        "    print(tasks_tr[i][0])"
      ],
      "execution_count": null,
      "outputs": [
        {
          "output_type": "stream",
          "text": [
            "*** Rotation angles:***\n",
            "1.296997226745124\n",
            "10.924626762985291\n",
            "24.579862920274614\n",
            "31.882954148742172\n",
            "40.441910986678636\n",
            "46.97209713044229\n",
            "57.62313733975957\n",
            "69.59007400267737\n",
            "73.21021117567011\n",
            "83.06995108613407\n"
          ],
          "name": "stdout"
        },
        {
          "output_type": "display_data",
          "data": {
            "image/png": "[encoded data removed]",
            "text/plain": [
              "<Figure size 576x576 with 11 Axes>"
            ]
          },
          "metadata": {
            "tags": [],
            "needs_background": "light"
          }
        }
      ]
    },
    {
      "cell_type": "markdown",
      "metadata": {
        "id": "9afN8BOKhKud"
      },
      "source": [
        "## Definitions, Classes and Functions"
      ]
    },
    {
      "cell_type": "code",
      "metadata": {
        "id": "Wl1QdLG7hG6S"
      },
      "source": [
        "# Applying linear transformation\n",
        "def Xavier(m):\n",
        "    if m.__class__.__name__ == 'Linear':\n",
        "        fan_in, fan_out = m.weight.data.size(1), m.weight.data.size(0)\n",
        "        std = 1.0 * math.sqrt(2.0 / (fan_in + fan_out))\n",
        "        a = math.sqrt(3.0) * std\n",
        "        m.weight.data.uniform_(-a, a)\n",
        "        m.bias.data.fill_(0.0)"
      ],
      "execution_count": null,
      "outputs": []
    },
    {
      "cell_type": "code",
      "metadata": {
        "id": "z4SpM8vFg-Hp"
      },
      "source": [
        "# Creating a mutilayer perceptron class\n",
        "class MLP(nn.Module):\n",
        "    def __init__(self, sizes):\n",
        "        super(MLP, self).__init__()\n",
        "        layers = []\n",
        "\n",
        "        for i in range(0, len(sizes) - 1):\n",
        "            layers.append(nn.Linear(sizes[i], sizes[i + 1]))\n",
        "            if i < (len(sizes) - 2):\n",
        "                layers.append(nn.ReLU())\n",
        "        # creating a sequential layer\n",
        "        self.net = nn.Sequential(*layers)\n",
        "        # applying linear transformation\n",
        "        self.net.apply(Xavier)\n",
        "        \n",
        "    # forward pass\n",
        "    def forward(self, x):\n",
        "        return self.net(x)"
      ],
      "execution_count": null,
      "outputs": []
    },
    {
      "cell_type": "code",
      "metadata": {
        "id": "Mbgk2OhOhROZ"
      },
      "source": [
        "# Defining a 3x3 convolution layer \n",
        "def conv3x3(in_planes, out_planes, stride=1):\n",
        "    return nn.Conv2d(in_planes, out_planes, kernel_size=3, stride=stride,\n",
        "                     padding=1, bias=False)"
      ],
      "execution_count": null,
      "outputs": []
    },
    {
      "cell_type": "code",
      "metadata": {
        "id": "8qffwQYAhSZ8"
      },
      "source": [
        "class BasicBlock(nn.Module):\n",
        "    expansion = 1\n",
        "\n",
        "    # initializing the basic building block \n",
        "    def __init__(self, in_planes, planes, stride=1):\n",
        "        super(BasicBlock, self).__init__()\n",
        "        self.conv1 = conv3x3(in_planes, planes, stride)\n",
        "        self.bn1 = nn.BatchNorm2d(planes)\n",
        "        self.conv2 = conv3x3(planes, planes)\n",
        "        self.bn2 = nn.BatchNorm2d(planes)\n",
        "\n",
        "        self.shortcut = nn.Sequential()\n",
        "        if stride != 1 or in_planes != self.expansion * planes:\n",
        "            self.shortcut = nn.Sequential(\n",
        "                nn.Conv2d(in_planes, self.expansion * planes, kernel_size=1,\n",
        "                          stride=stride, bias=False),\n",
        "                nn.BatchNorm2d(self.expansion * planes)\n",
        "            )\n",
        "    # forward activity\n",
        "    def forward(self, x):\n",
        "        out = relu(self.bn1(self.conv1(x)))\n",
        "        out = self.bn2(self.conv2(out))\n",
        "        out += self.shortcut(x)\n",
        "        out = relu(out)\n",
        "        return out"
      ],
      "execution_count": null,
      "outputs": []
    },
    {
      "cell_type": "code",
      "metadata": {
        "id": "rd18JTOmhWa2"
      },
      "source": [
        "# Creating the architecture of resnet\n",
        "class ResNet(nn.Module):\n",
        "    def __init__(self, block, num_blocks, num_classes, nf):\n",
        "        super(ResNet, self).__init__()\n",
        "        self.in_planes = nf\n",
        "\n",
        "        # initializing layers & doing the batch normalization\n",
        "        self.conv1 = conv3x3(3, nf * 1)\n",
        "        self.bn1 = nn.BatchNorm2d(nf * 1)\n",
        "        self.layer1 = self._make_layer(block, nf * 1, num_blocks[0], stride=1)\n",
        "        self.layer2 = self._make_layer(block, nf * 2, num_blocks[1], stride=2)\n",
        "        self.layer3 = self._make_layer(block, nf * 4, num_blocks[2], stride=2)\n",
        "        self.layer4 = self._make_layer(block, nf * 8, num_blocks[3], stride=2)\n",
        "        self.linear = nn.Linear(nf * 8 * block.expansion, num_classes)\n",
        "\n",
        "    # function for creating layer\n",
        "    def _make_layer(self, block, planes, num_blocks, stride):\n",
        "        strides = [stride] + [1] * (num_blocks - 1)\n",
        "        layers = []\n",
        "        for stride in strides:\n",
        "            layers.append(block(self.in_planes, planes, stride))\n",
        "            self.in_planes = planes * block.expansion\n",
        "        return nn.Sequential(*layers)\n",
        "\n",
        "    # creating forward pass\n",
        "    def forward(self, x):\n",
        "        bsz = x.size(0)\n",
        "        out = relu(self.bn1(self.conv1(x.view(bsz, 3, 32, 32))))\n",
        "        out = self.layer1(out)\n",
        "        out = self.layer2(out)\n",
        "        out = self.layer3(out)\n",
        "        out = self.layer4(out)\n",
        "        out = avg_pool2d(out, 4)\n",
        "        out = out.view(out.size(0), -1)\n",
        "        out = self.linear(out)\n",
        "        return out\n",
        "\n",
        "\n",
        "def ResNet18(nclasses, nf=20):\n",
        "    return ResNet(BasicBlock, [2, 2, 2, 2], nclasses, nf)"
      ],
      "execution_count": null,
      "outputs": []
    },
    {
      "cell_type": "code",
      "metadata": {
        "id": "hpjDnZ5dhfn_"
      },
      "source": [
        "#from __future__ import print_function\n",
        "\n",
        "#import torch"
      ],
      "execution_count": null,
      "outputs": []
    },
    {
      "cell_type": "code",
      "metadata": {
        "id": "9DYzgmAWhkBr"
      },
      "source": [
        "# calculating changes \n",
        "def task_changes(result_t):\n",
        "    n_tasks = int(result_t.max() + 1)\n",
        "    changes = []\n",
        "    current = result_t[0]\n",
        "    for i, t in enumerate(result_t):\n",
        "        if t != current:\n",
        "            changes.append(i)\n",
        "            current = t\n",
        "\n",
        "    return n_tasks, changes\n",
        "\n",
        "# confusion matrix\n",
        "def confusion_matrix(result_t, result_a, fname=None):\n",
        "    nt, changes = task_changes(result_t)\n",
        "\n",
        "    baseline = result_a[0]\n",
        "    changes = torch.LongTensor(changes + [result_a.size(0)]) - 1\n",
        "    result = result_a[changes]\n",
        "\n",
        "    # acc[t] equals result[t,t]\n",
        "    acc = result.diag()\n",
        "    fin = result[nt - 1]\n",
        "    # bwt[t] equals result[T,t] - acc[t]\n",
        "    bwt = result[nt - 1] - acc\n",
        "\n",
        "    # fwt[t] equals result[t-1,t] - baseline[t]\n",
        "    fwt = torch.zeros(nt)\n",
        "    for t in range(1, nt):\n",
        "        fwt[t] = result[t - 1, t] - baseline[t]\n",
        "\n",
        "    if fname is not None:\n",
        "        f = open(fname, 'w')\n",
        "\n",
        "        print(' '.join(['%.4f' % r for r in baseline]), file=f)\n",
        "        print('|', file=f)\n",
        "        for row in range(result.size(0)):\n",
        "            print(' '.join(['%.4f' % r for r in result[row]]), file=f)\n",
        "        print('', file=f)\n",
        "        # print('Diagonal Accuracy: %.4f' % acc.mean(), file=f)\n",
        "        print('Final Accuracy: %.4f' % fin.mean(), file=f)\n",
        "        print('Backward: %.4f' % bwt.mean(), file=f)\n",
        "        print('Forward:  %.4f' % fwt.mean(), file=f)\n",
        "        f.close()\n",
        "\n",
        "    stats = []\n",
        "    # stats.append(acc.mean())\n",
        "    stats.append(fin.mean())\n",
        "    stats.append(bwt.mean())\n",
        "    stats.append(fwt.mean())\n",
        "\n",
        "    return stats"
      ],
      "execution_count": null,
      "outputs": []
    },
    {
      "cell_type": "markdown",
      "metadata": {
        "id": "4rWRfFPZnnBn"
      },
      "source": [
        "## Defining GEM Algorithm"
      ]
    },
    {
      "cell_type": "code",
      "metadata": {
        "id": "CBTsm4GPhzC9"
      },
      "source": [
        "#import torch.nn as nn\n",
        "import torch.optim as optim\n",
        "import quadprog"
      ],
      "execution_count": null,
      "outputs": []
    },
    {
      "cell_type": "code",
      "metadata": {
        "id": "1P9pYuzHiSLT"
      },
      "source": [
        "def compute_offsets(task, nc_per_task, is_cifar):\n",
        "    \"\"\"\n",
        "        Compute offsets for cifar to determine which\n",
        "        outputs to select for a given task.\n",
        "    \"\"\"\n",
        "    if is_cifar:\n",
        "        offset1 = task * nc_per_task\n",
        "        offset2 = (task + 1) * nc_per_task\n",
        "    else:\n",
        "        offset1 = 0\n",
        "        offset2 = nc_per_task\n",
        "    return offset1, offset2"
      ],
      "execution_count": null,
      "outputs": []
    },
    {
      "cell_type": "code",
      "metadata": {
        "id": "Wa_NMxBziVsI"
      },
      "source": [
        "# storing the value for Gradient descent to converge the model\n",
        "def store_grad(pp, grads, grad_dims, tid):\n",
        "    \"\"\"\n",
        "        This stores parameter gradients of past tasks.\n",
        "        pp: parameters\n",
        "        grads: gradients\n",
        "        grad_dims: list with number of parameters per layers\n",
        "        tid: task id\n",
        "    \"\"\"\n",
        "    # storing the gradients\n",
        "    grads[:, tid].fill_(0.0)\n",
        "    cnt = 0\n",
        "    for param in pp():\n",
        "        if param.grad is not None:\n",
        "            beg = 0 if cnt == 0 else sum(grad_dims[:cnt])\n",
        "            en = sum(grad_dims[:cnt + 1])\n",
        "            grads[beg: en, tid].copy_(param.grad.data.view(-1))\n",
        "        cnt += 1\n"
      ],
      "execution_count": null,
      "outputs": []
    },
    {
      "cell_type": "code",
      "metadata": {
        "id": "1V3xgLVCiaX7"
      },
      "source": [
        "# creating new Gradient value & replacing the old \n",
        "def overwrite_grad(pp, newgrad, grad_dims):\n",
        "    \"\"\"\n",
        "        This is used to overwrite the gradients with a new gradient\n",
        "        vector, whenever violations occur.\n",
        "        pp: parameters\n",
        "        newgrad: corrected gradient\n",
        "        grad_dims: list storing number of parameters at each layer\n",
        "    \"\"\"\n",
        "    cnt = 0\n",
        "    for param in pp():\n",
        "        if param.grad is not None:\n",
        "            beg = 0 if cnt == 0 else sum(grad_dims[:cnt])\n",
        "            en = sum(grad_dims[:cnt + 1])\n",
        "            this_grad = newgrad[beg: en].contiguous().view(\n",
        "                param.grad.data.size())\n",
        "            param.grad.data.copy_(this_grad)\n",
        "        cnt += 1"
      ],
      "execution_count": null,
      "outputs": []
    },
    {
      "cell_type": "code",
      "metadata": {
        "id": "Q9aQKqhSil2h"
      },
      "source": [
        "def project2cone2(gradient, memories, margin=0.5, eps=1e-3):\n",
        "    \"\"\"\n",
        "        Solves the GEM dual QP described in the paper given a proposed\n",
        "        gradient \"gradient\", and a memory of task gradients \"memories\".\n",
        "        Overwrites \"gradient\" with the final projected update.\n",
        "        input:  gradient, p-vector\n",
        "        input:  memories, (t * p)-vector\n",
        "        output: x, p-vector\n",
        "    \"\"\"\n",
        "    memories_np = memories.cpu().t().double().numpy()\n",
        "    gradient_np = gradient.cpu().contiguous().view(-1).double().numpy()\n",
        "    t = memories_np.shape[0]\n",
        "    P = np.dot(memories_np, memories_np.transpose())\n",
        "    P = 0.5 * (P + P.transpose()) + np.eye(t) * eps\n",
        "    q = np.dot(memories_np, gradient_np) * -1\n",
        "    G = np.eye(t)\n",
        "    h = np.zeros(t) + margin\n",
        "    v = quadprog.solve_qp(P, q, G, h)[0]\n",
        "    x = np.dot(v, memories_np) + gradient_np\n",
        "    gradient.copy_(torch.Tensor(x).view(-1, 1))"
      ],
      "execution_count": null,
      "outputs": []
    },
    {
      "cell_type": "code",
      "metadata": {
        "id": "O_DVnbtzirUg"
      },
      "source": [
        "class Net(nn.Module):\n",
        "    def __init__(self,\n",
        "                 n_inputs,\n",
        "                 n_outputs,\n",
        "                 n_tasks,\n",
        "                 args):\n",
        "        super(Net, self).__init__()\n",
        "        nl, nh = args['n_layers'], args['n_hiddens']\n",
        "        self.margin = args['memory_strength']\n",
        "        self.is_cifar = (args['data_file'] == 'cifar100.pt')\n",
        "        if self.is_cifar:\n",
        "            self.net = ResNet18(n_outputs)\n",
        "        else:\n",
        "            self.net = MLP([n_inputs] + [nh] * nl + [n_outputs])\n",
        "\n",
        "        self.ce = nn.CrossEntropyLoss()\n",
        "        self.n_outputs = n_outputs\n",
        "\n",
        "        self.opt = optim.SGD(self.parameters(), args['lr'])\n",
        "\n",
        "        self.n_memories = args['n_memories']\n",
        "        self.gpu = args['cuda']\n",
        "\n",
        "        # allocate episodic memory\n",
        "        self.memory_data = torch.FloatTensor(\n",
        "            n_tasks, self.n_memories, n_inputs)\n",
        "        self.memory_labs = torch.LongTensor(n_tasks, self.n_memories)\n",
        "        if args['cuda']:\n",
        "            self.memory_data = self.memory_data.cuda()\n",
        "            self.memory_labs = self.memory_labs.cuda()\n",
        "\n",
        "        # allocate temporary synaptic memory\n",
        "        self.grad_dims = []\n",
        "        for param in self.parameters():\n",
        "            self.grad_dims.append(param.data.numel())\n",
        "        self.grads = torch.Tensor(sum(self.grad_dims), n_tasks)\n",
        "        if args['cuda']:\n",
        "            self.grads = self.grads.cuda()\n",
        "\n",
        "        # allocate counters\n",
        "        self.observed_tasks = []\n",
        "        self.old_task = -1\n",
        "        self.mem_cnt = 0\n",
        "        if self.is_cifar:\n",
        "            self.nc_per_task = int(n_outputs / n_tasks)\n",
        "        else:\n",
        "            self.nc_per_task = n_outputs\n",
        "\n",
        "    # forward pass\n",
        "    def forward(self, x, t):\n",
        "        output = self.net(x)\n",
        "        if self.is_cifar:\n",
        "            # make sure we predict classes within the current task\n",
        "            offset1 = int(t * self.nc_per_task)\n",
        "            offset2 = int((t + 1) * self.nc_per_task)\n",
        "            if offset1 > 0:\n",
        "                output[:, :offset1].data.fill_(-10e10)\n",
        "            if offset2 < self.n_outputs:\n",
        "                output[:, offset2:self.n_outputs].data.fill_(-10e10)\n",
        "        return output\n",
        "\n",
        "    def observe(self, x, t, y):\n",
        "        # update memory\n",
        "        if t != self.old_task:\n",
        "            self.observed_tasks.append(t)\n",
        "            self.old_task = t\n",
        "\n",
        "        # Update ring buffer storing examples from current task\n",
        "        bsz = y.data.size(0)\n",
        "        endcnt = min(self.mem_cnt + bsz, self.n_memories)\n",
        "        effbsz = endcnt - self.mem_cnt\n",
        "        self.memory_data[t, self.mem_cnt: endcnt].copy_(\n",
        "            x.data[: effbsz])\n",
        "        if bsz == 1:\n",
        "            self.memory_labs[t, self.mem_cnt] = y.data[0]\n",
        "        else:\n",
        "            self.memory_labs[t, self.mem_cnt: endcnt].copy_(\n",
        "                y.data[: effbsz])\n",
        "        self.mem_cnt += effbsz\n",
        "        if self.mem_cnt == self.n_memories:\n",
        "            self.mem_cnt = 0\n",
        "\n",
        "        # compute gradient on previous tasks\n",
        "        if len(self.observed_tasks) > 1:\n",
        "            for tt in range(len(self.observed_tasks) - 1):\n",
        "                self.zero_grad()\n",
        "                # fwd/bwd on the examples in the memory\n",
        "                past_task = self.observed_tasks[tt]\n",
        "\n",
        "                offset1, offset2 = compute_offsets(past_task, self.nc_per_task,\n",
        "                                                   self.is_cifar)\n",
        "                ptloss = self.ce(\n",
        "                    self.forward(\n",
        "                        self.memory_data[past_task],\n",
        "                        past_task)[:, offset1: offset2],\n",
        "                    self.memory_labs[past_task] - offset1)\n",
        "                ptloss.backward()\n",
        "                store_grad(self.parameters, self.grads, self.grad_dims,\n",
        "                           past_task)\n",
        "\n",
        "        # compute the grad on the current minibatch\n",
        "        self.zero_grad()\n",
        "\n",
        "        offset1, offset2 = compute_offsets(t, self.nc_per_task, self.is_cifar)\n",
        "        loss = self.ce(self.forward(x, t)[:, offset1: offset2], y - offset1)\n",
        "        loss.backward()\n",
        "\n",
        "        # check if gradient violates constraints\n",
        "        if len(self.observed_tasks) > 1:\n",
        "            # copy gradient\n",
        "            store_grad(self.parameters, self.grads, self.grad_dims, t)\n",
        "            indx = torch.cuda.LongTensor(self.observed_tasks[:-1]) if self.gpu \\\n",
        "                else torch.LongTensor(self.observed_tasks[:-1])\n",
        "            dotp = torch.mm(self.grads[:, t].unsqueeze(0),\n",
        "                            self.grads.index_select(1, indx))\n",
        "            if (dotp < 0).sum() != 0:\n",
        "                project2cone2(self.grads[:, t].unsqueeze(1),\n",
        "                              self.grads.index_select(1, indx), self.margin)\n",
        "                # copy gradients back\n",
        "                overwrite_grad(self.parameters, self.grads[:, t],\n",
        "                               self.grad_dims)\n",
        "        self.opt.step()"
      ],
      "execution_count": null,
      "outputs": []
    },
    {
      "cell_type": "code",
      "metadata": {
        "id": "yVM3dxfajA_q"
      },
      "source": [
        "def load_datasets():\n",
        "    d_tr, d_te = tasks_tr, tasks_te\n",
        "    n_inputs = d_tr[0][1].size(1)\n",
        "    n_outputs = 0\n",
        "    for i in range(len(d_tr)):\n",
        "        n_outputs = max(n_outputs, d_tr[i][2].max().item())\n",
        "        n_outputs = max(n_outputs, d_te[i][2].max().item())\n",
        "    return d_tr, d_te, n_inputs, n_outputs + 1, len(d_tr)"
      ],
      "execution_count": null,
      "outputs": []
    },
    {
      "cell_type": "code",
      "metadata": {
        "id": "byxGUJbpjD-r"
      },
      "source": [
        "class Continuum:\n",
        "\n",
        "    def __init__(self, data, args):\n",
        "        self.data = data\n",
        "        self.batch_size = args['batch_size']\n",
        "        n_tasks = len(data)\n",
        "        task_permutation = range(n_tasks)\n",
        "\n",
        "        if args['shuffle_tasks'] == 'yes':\n",
        "            task_permutation = torch.randperm(n_tasks).tolist()\n",
        "\n",
        "        sample_permutations = []\n",
        "\n",
        "        for t in range(n_tasks):\n",
        "            N = data[t][1].size(0)\n",
        "            if args['samples_per_task'] <= 0:\n",
        "                n = N\n",
        "            else:\n",
        "                n = min(args['samples_per_task'], N)\n",
        "\n",
        "            p = torch.randperm(N)[0:n]\n",
        "            sample_permutations.append(p)\n",
        "\n",
        "        self.permutation = []\n",
        "\n",
        "        for t in range(n_tasks):\n",
        "            task_t = task_permutation[t]\n",
        "            for _ in range(args['n_epochs']):\n",
        "                task_p = [[task_t, i] for i in sample_permutations[task_t]]\n",
        "                random.shuffle(task_p)\n",
        "                self.permutation += task_p\n",
        "\n",
        "        self.length = len(self.permutation)\n",
        "        self.current = 0\n",
        "\n",
        "    def __iter__(self):\n",
        "        return self\n",
        "\n",
        "    def next(self):\n",
        "        return self.__next__()\n",
        "\n",
        "    def __next__(self):\n",
        "        if self.current >= self.length:\n",
        "            raise StopIteration\n",
        "        else:\n",
        "            ti = self.permutation[self.current][0]\n",
        "            j = []\n",
        "            i = 0\n",
        "            while (((self.current + i) < self.length) and\n",
        "                   (self.permutation[self.current + i][0] == ti) and\n",
        "                   (i < self.batch_size)):\n",
        "                j.append(self.permutation[self.current + i][1])\n",
        "                i += 1\n",
        "            self.current += i\n",
        "            j = torch.LongTensor(j)\n",
        "            return self.data[ti][1][j], ti, self.data[ti][2][j]"
      ],
      "execution_count": null,
      "outputs": []
    },
    {
      "cell_type": "markdown",
      "metadata": {
        "id": "d4X2v2bln6b7"
      },
      "source": [
        "## Evaluating the performance of the model"
      ]
    },
    {
      "cell_type": "code",
      "metadata": {
        "id": "UCUEL2cwjOYh"
      },
      "source": [
        "def eval_tasks(model, tasks, args):\n",
        "    model.eval()\n",
        "    result = []\n",
        "    for i, task in enumerate(tasks):\n",
        "        t = i\n",
        "        x = task[1]\n",
        "        y = task[2]\n",
        "        rt = 0\n",
        "        \n",
        "        eval_bs = x.size(0)\n",
        "\n",
        "        for b_from in range(0, x.size(0), eval_bs):\n",
        "            b_to = min(b_from + eval_bs, x.size(0) - 1)\n",
        "            if b_from == b_to:\n",
        "                xb = x[b_from].view(1, -1)\n",
        "                yb = torch.LongTensor([y[b_to]]).view(1, -1)\n",
        "            else:\n",
        "                xb = x[b_from:b_to]\n",
        "                yb = y[b_from:b_to]\n",
        "            if args['cuda']:\n",
        "                xb = xb.cuda()\n",
        "            _, pb = torch.max(model(xb, t).data.cpu(), 1, keepdim=False)\n",
        "            rt += (pb == yb).float().sum()\n",
        "\n",
        "        result.append(rt / x.size(0))\n",
        "\n",
        "    return result"
      ],
      "execution_count": null,
      "outputs": []
    },
    {
      "cell_type": "code",
      "metadata": {
        "id": "vnRiWnxzjTjN"
      },
      "source": [
        "def life_experience(model, continuum, x_te, args):\n",
        "    result_a = []\n",
        "    result_t = []\n",
        "\n",
        "    current_task = 0\n",
        "    time_start = time.time()\n",
        "\n",
        "    for (i, (x, t, y)) in enumerate(continuum):\n",
        "        if(((i % args['log_every']) == 0) or (t != current_task)):\n",
        "            result_a.append(eval_tasks(model, x_te, args))\n",
        "            result_t.append(current_task)\n",
        "            current_task = t\n",
        "\n",
        "        v_x = x.view(x.size(0), -1)\n",
        "        v_y = y.long()\n",
        "\n",
        "        if args['cuda']:\n",
        "            v_x = v_x.cuda()\n",
        "            v_y = v_y.cuda()\n",
        "\n",
        "        model.train()\n",
        "        model.observe(v_x, t, v_y)\n",
        "\n",
        "    result_a.append(eval_tasks(model, x_te, args))\n",
        "    result_t.append(current_task)\n",
        "\n",
        "    time_end = time.time()\n",
        "    time_spent = time_end - time_start\n",
        "\n",
        "    return torch.Tensor(result_t), torch.Tensor(result_a), time_spent"
      ],
      "execution_count": null,
      "outputs": []
    },
    {
      "cell_type": "code",
      "metadata": {
        "id": "ofw5MZopjY6W"
      },
      "source": [
        "# specifying the model parameters\n",
        "args = {\n",
        "    'model' : 'gem',\n",
        "    'lr' : 0.1,\n",
        "    'n_memories' : 256,\n",
        "    'memory_strength' : 0.5,\n",
        "    'seed' : 0,\n",
        "    'cuda' : 'no',\n",
        "    'finetune' : 'no',\n",
        "    'batch_size' : 10,\n",
        "    'shuffle_tasks' : 'no',\n",
        "    'samples_per_task' : -1,\n",
        "    'n_epochs' : 1,\n",
        "    'n_layers' : 2,\n",
        "    'n_hiddens' : 100,\n",
        "    'data_file' : 'mnist_rotations.pt',\n",
        "    'log_every' : 100\n",
        "}"
      ],
      "execution_count": null,
      "outputs": []
    },
    {
      "cell_type": "code",
      "metadata": {
        "id": "EEpw-MA8jhCI",
        "outputId": "9e15fc30-97d0-46d6-b349-9414c534c39a",
        "colab": {
          "base_uri": "https://localhost:8080/",
          "height": 34
        }
      },
      "source": [
        "args['cuda'] = True if args['cuda'] == 'yes' else False\n",
        "args['finetune'] = True if args['finetune'] == 'yes' else False\n",
        "    \n",
        "uid = uuid.uuid4().hex\n",
        "\n",
        "torch.backends.cudnn.enabled = False\n",
        "torch.manual_seed(args['seed'])\n",
        "np.random.seed(args['seed'])\n",
        "random.seed(args['seed'])\n",
        "if args['cuda']:\n",
        "        torch.cuda.manual_seed_all(args['seed'])\n",
        "\n",
        "x_train, x_test, n_inputs, n_outputs, n_tasks = load_datasets()\n",
        "\n",
        "continuum = Continuum(x_train, args)\n",
        "print('done')"
      ],
      "execution_count": null,
      "outputs": [
        {
          "output_type": "stream",
          "text": [
            "done\n"
          ],
          "name": "stdout"
        }
      ]
    },
    {
      "cell_type": "markdown",
      "metadata": {
        "id": "BNgVA6_1ZCz4"
      },
      "source": [
        "## Applying model and parameters"
      ]
    },
    {
      "cell_type": "code",
      "metadata": {
        "id": "OO8POTi6jl5V",
        "outputId": "c5def8f3-8665-4f6f-faef-53967635b08d",
        "colab": {
          "base_uri": "https://localhost:8080/",
          "height": 34
        }
      },
      "source": [
        "model = Net(n_inputs, n_outputs, n_tasks, args)\n",
        "if args['cuda']:\n",
        "    model.cuda()\n",
        "    \n",
        "print('done')"
      ],
      "execution_count": null,
      "outputs": [
        {
          "output_type": "stream",
          "text": [
            "done\n"
          ],
          "name": "stdout"
        }
      ]
    },
    {
      "cell_type": "code",
      "metadata": {
        "id": "ELgevYdCjz-X",
        "outputId": "3260f09b-f999-4209-ace2-f20f279ddbf8",
        "colab": {
          "base_uri": "https://localhost:8080/",
          "height": 34
        }
      },
      "source": [
        "# run model on continuum\n",
        "result_t, result_a, spent_time = life_experience(\n",
        "    model, continuum, x_train, args)\n",
        "print('done')"
      ],
      "execution_count": null,
      "outputs": [
        {
          "output_type": "stream",
          "text": [
            "done\n"
          ],
          "name": "stdout"
        }
      ]
    },
    {
      "cell_type": "markdown",
      "metadata": {
        "id": "66oUhBk4ZSsO"
      },
      "source": [
        "## Confusion Matrix"
      ]
    },
    {
      "cell_type": "code",
      "metadata": {
        "id": "CfAPfmL4j3NH",
        "outputId": "ad568473-7adc-4b1c-a6dc-29bfb19f1cd9",
        "colab": {
          "base_uri": "https://localhost:8080/",
          "height": 68
        }
      },
      "source": [
        "# saving the confusion matrix and printing one line of stats\n",
        "stats = confusion_matrix(result_t, result_a, 'confusion.txt')\n",
        "print('Final Accuracy = %f' % stats[0].numpy())\n",
        "print('Backward Trasnfer = %f' % stats[1].numpy())\n",
        "print('Forward Trasnfer = %f' % stats[2].numpy())"
      ],
      "execution_count": null,
      "outputs": [
        {
          "output_type": "stream",
          "text": [
            "Final Accuracy = 0.920062\n",
            "Backward Trasnfer = -0.052895\n",
            "Forward Trasnfer = 0.773063\n"
          ],
          "name": "stdout"
        }
      ]
    },
    {
      "cell_type": "code",
      "metadata": {
        "id": "g9954FQVj7m3",
        "outputId": "abd40329-eabe-47c1-c5d4-7a4cbbb61ea8",
        "colab": {
          "base_uri": "https://localhost:8080/",
          "height": 442
        }
      },
      "source": [
        "# save all results in binary file\n",
        "torch.save((result_t, result_a, model.state_dict(),stats, args), 'gem_mnist_rotations.pt')\n",
        "for dirname, _, filenames in os.walk('/content/'):\n",
        "    for filename in filenames:\n",
        "        print(os.path.join(dirname, filename))"
      ],
      "execution_count": null,
      "outputs": [
        {
          "output_type": "stream",
          "text": [
            "/content/mnist_train.pt\n",
            "/content/confusion.txt\n",
            "/content/mnist.npz\n",
            "/content/mnist_test.pt\n",
            "/content/gem_mnist_rotations.pt\n",
            "/content/.config/.last_opt_in_prompt.yaml\n",
            "/content/.config/active_config\n",
            "/content/.config/.last_survey_prompt.yaml\n",
            "/content/.config/.last_update_check.json\n",
            "/content/.config/gce\n",
            "/content/.config/config_sentinel\n",
            "/content/.config/.metricsUUID\n",
            "/content/.config/configurations/config_default\n",
            "/content/.config/logs/2020.10.14/16.31.46.119103.log\n",
            "/content/.config/logs/2020.10.14/16.31.25.706256.log\n",
            "/content/.config/logs/2020.10.14/16.30.50.869240.log\n",
            "/content/.config/logs/2020.10.14/16.31.46.824031.log\n",
            "/content/.config/logs/2020.10.14/16.31.10.843101.log\n",
            "/content/.config/logs/2020.10.14/16.31.31.333159.log\n",
            "/content/sample_data/anscombe.json\n",
            "/content/sample_data/README.md\n",
            "/content/sample_data/california_housing_test.csv\n",
            "/content/sample_data/mnist_test.csv\n",
            "/content/sample_data/california_housing_train.csv\n",
            "/content/sample_data/mnist_train_small.csv\n"
          ],
          "name": "stdout"
        }
      ]
    },
    {
      "cell_type": "markdown",
      "metadata": {
        "id": "0S0Vqnv6ZlKo"
      },
      "source": [
        "## Plotting results"
      ]
    },
    {
      "cell_type": "code",
      "metadata": {
        "id": "u1zEJIOOj_qL",
        "outputId": "973b418a-74b0-4d88-951f-1ed633c6ab21",
        "colab": {
          "base_uri": "https://localhost:8080/",
          "height": 865
        }
      },
      "source": [
        "# plotting the results\n",
        "import matplotlib as mpl\n",
        "mpl.use('Agg')\n",
        "mpl.rcParams[\"font.family\"] = \"Arial\"\n",
        "mpl.rcParams[\"font.family\"] = \"DejaVu Serif\"\n",
        "\n",
        "from matplotlib import pyplot as plt\n",
        "from glob import glob\n",
        "import numpy as np\n",
        "import torch\n",
        "\n",
        "models = ['gem']\n",
        "datasets = ['mnist_rotations']\n",
        "\n",
        "names_datasets = {'mnist_rotations': 'MNIST rotations'}\n",
        "\n",
        "names_models = {'gem': 'GEM'}\n",
        "\n",
        "colors = {'gem': 'C3'}\n",
        "\n",
        "barplot = {}\n",
        "\n",
        "for dataset in datasets:\n",
        "    barplot[dataset] = {}\n",
        "    for model in models:\n",
        "        barplot[dataset][model] = {}\n",
        "        matches = glob(model + '*' + dataset + '*.pt')\n",
        "        if len(matches):\n",
        "            data = torch.load(matches[0], map_location=lambda storage, loc: storage)\n",
        "            acc, bwt, fwt = data[3][:]\n",
        "            barplot[dataset][model]['acc'] = acc\n",
        "            barplot[dataset][model]['bwt'] = bwt\n",
        "            barplot[dataset][model]['fwt'] = fwt\n",
        "\n",
        "for dataset in datasets:\n",
        "    x_lab = []\n",
        "    y_acc = []\n",
        "    y_bwt = []\n",
        "    y_fwt = []\n",
        "\n",
        "    for i, model in enumerate(models):\n",
        "        if barplot[dataset][model] != {}:\n",
        "            x_lab.append(model)\n",
        "            y_acc.append(barplot[dataset][model]['acc'])\n",
        "            y_bwt.append(barplot[dataset][model]['bwt'])\n",
        "            y_fwt.append(barplot[dataset][model]['fwt'])\n",
        "\n",
        "    x_ind = np.arange(len(y_acc))\n",
        "\n",
        "    plt.figure(figsize=(12, 6))\n",
        "    all_colors = []\n",
        "    for xi, yi, li in zip(x_ind, y_acc, x_lab):\n",
        "        plt.bar(xi, yi, label=names_models[li], color=colors[li])\n",
        "        all_colors.append(colors[li])\n",
        "    plt.bar(x_ind + (len(y_acc) + 1) * 1, y_bwt, color=all_colors)\n",
        "    plt.bar(x_ind + (len(y_acc) + 1) * 2, y_fwt, color=all_colors)\n",
        "    plt.xticks([0.01, 2, 4], ['ACC', 'BWT', 'FWT'], fontsize=16)\n",
        "    plt.yticks(fontsize=16)\n",
        "    plt.xlim(-1, len(y_acc) * 3 + 2)\n",
        "    plt.ylabel('classification accuracy', fontsize=16)\n",
        "    plt.title(names_datasets[dataset], fontsize=16)\n",
        "    plt.legend(fontsize=12)\n",
        "    plt.tight_layout()\n",
        "    plt.savefig('barplot_%s.pdf' % dataset, bbox_inches='tight')\n",
        "    plt.show()\n",
        "\n",
        "evoplot = {}\n",
        "\n",
        "for dataset in datasets:\n",
        "    evoplot[dataset] = {}\n",
        "    for model in models:\n",
        "        matches = glob(model + '*' + dataset + '*.pt')\n",
        "        if len(matches):\n",
        "            data = torch.load(matches[0], map_location=lambda storage, loc: storage)\n",
        "            evoplot[dataset][model] = data[1][:, 0].numpy()\n",
        "\n",
        "for dataset in datasets:\n",
        "\n",
        "    plt.figure(figsize=(12, 6))\n",
        "    for model in models:\n",
        "        if model in evoplot[dataset]:\n",
        "            x = np.arange(len(evoplot[dataset][model]))\n",
        "            x = (x - x.min()) / (x.max() - x.min()) * 10\n",
        "            plt.plot(x, evoplot[dataset][model], color=colors[model], lw=3)\n",
        "            plt.xticks(range(0, 11, 2))\n",
        "\n",
        "    plt.xticks(fontsize=16)\n",
        "    plt.yticks(fontsize=16)\n",
        "    plt.xlabel('task number', fontsize=16)\n",
        "    plt.title(names_datasets[dataset], fontsize=16)\n",
        "    plt.tight_layout()\n",
        "    plt.savefig('evoplot_%s.pdf' % dataset, bbox_inches='tight')\n",
        "    plt.show()"
      ],
      "execution_count": null,
      "outputs": [
        {
          "output_type": "display_data",
          "data": {
            "image/png": "[encoded data removed]",
            "text/plain": [
              "<Figure size 864x432 with 1 Axes>"
            ]
          },
          "metadata": {
            "tags": [],
            "needs_background": "light"
          }
        },
        {
          "output_type": "display_data",
          "data": {
            "image/png": "[encoded data removed]",
            "text/plain": [
              "<Figure size 864x432 with 1 Axes>"
            ]
          },
          "metadata": {
            "tags": [],
            "needs_background": "light"
          }
        }
      ]
    },
    {
      "cell_type": "markdown",
      "metadata": {
        "id": "eHevtqGBAr0p"
      },
      "source": [
        "## Results"
      ]
    },
    {
      "cell_type": "markdown",
      "metadata": {
        "id": "D2VCPWunAupX"
      },
      "source": [
        "The figure above shows us the average accuracy (ACC), backward transfer (BWT) and forward transfer (FWT) for the dataset MNIST. </br>\n",
        "Final Accuracy = 0.928497</br>\n",
        "Backward Trasnfer = -0.046793</br>\n",
        "Forward Trasnfer = 0.757682</br>\n",
        "We can visualize that GEM minimizes backward transfer, while exhibiting a positive fordward transfer."
      ]
    },
    {
      "cell_type": "markdown",
      "metadata": {
        "id": "XtEuTcsDZ2z7"
      },
      "source": [
        "# References"
      ]
    },
    {
      "cell_type": "markdown",
      "metadata": {
        "id": "U-cqWuHXB6PV"
      },
      "source": [
        "- David Lopez-Paz and Marc' Aurelio Ranzato. Gradient Episodic Memory for Continual Learning.\n",
        "- Continual Lifelong Learning with Neural Networks: A Review . German I. Parisi, Ronald Kemker, Jose L. Part, Christopher Kanan, Stefan Wermter."
      ]
    },
    {
      "cell_type": "code",
      "metadata": {
        "id": "od1mWGjiCJbR"
      },
      "source": [
        ""
      ],
      "execution_count": null,
      "outputs": []
    }
  ]
}